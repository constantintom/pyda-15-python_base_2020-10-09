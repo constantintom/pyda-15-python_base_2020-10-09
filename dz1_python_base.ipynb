{
 "cells": [
  {
   "cell_type": "markdown",
   "metadata": {},
   "source": [
    "# Задание 1\n",
    "Даны 2 переменных, в которых хранятся строки произвольной длины: phrase_1 и phrase_2.\n",
    "Напишите код, который проверяет какая из этих строк длиннее."
   ]
  },
  {
   "cell_type": "code",
   "execution_count": null,
   "metadata": {},
   "outputs": [],
   "source": [
    "phrase_1 = len(str(input('Введите фразу 1')))\n",
    "phrase_2 = len(str(input('Введите фразу 2')))\n",
    "print ('Результат:')\n",
    "if phrase_1 > phrase_2:\n",
    "    print('Фраза 1 длиннее фразы 2')\n",
    "elif phrase_1 < phrase_2:\n",
    "    print('Фраза 2 длиннее фразы 1')\n",
    "else:\n",
    "    print('Фразы равной длины')\n",
    "    "
   ]
  },
  {
   "cell_type": "markdown",
   "metadata": {},
   "source": [
    "# Задание 2\n",
    "Дана переменная, в которой хранится четырехзначное число (год). Необходимо написать программу, которая выведет, является ли данный год високосным или обычным."
   ]
  },
  {
   "cell_type": "code",
   "execution_count": null,
   "metadata": {},
   "outputs": [],
   "source": [
    "year = int(input('Введите год'))\n",
    "print ('Результат:')\n",
    "if year % 4 != 0 or (year % 100 == 0 and\n",
    "                     year % 400 != 0):\n",
    "    print ('Обычный год')\n",
    "else:\n",
    "    print ('Високосный год')\n",
    "    "
   ]
  },
  {
   "cell_type": "markdown",
   "metadata": {},
   "source": [
    "# Задание 3\n",
    "Необходимо написать программу, которая будет запрашивать у пользователя \n",
    "месяц и дату рождения и выводить соответствующий знак зодиака."
   ]
  },
  {
   "cell_type": "code",
   "execution_count": null,
   "metadata": {},
   "outputs": [],
   "source": [
    "day = int(input ('Введите день:'))\n",
    "month = str(input('Введите месяц:'))\n",
    "month = month.lower() # Перевод строки в нижний регистр для поиска по списку\n",
    "# Создаём 3 списка, где индексы элементов списка месяцев соответствуют индексам дат и знаков зодиака\n",
    "months = ['март', 'апрель', 'май', 'июнь', 'июль', 'август',\n",
    "          'сентябрь',  'октябрь', 'ноябрь', 'декабрь', 'январь','февраль' ]\n",
    "days = [21, 21, 22, 22, 23, 22, 24, 24, 23, 22, 21, 20]\n",
    "zodiacs = ['Овен', 'Телец','Близнецы', 'Рак', 'Лев', 'Дева', 'Весы', 'Скорпион',\n",
    "           'Стрелец', 'Козерог', 'Водолей', 'Рыбы']\n",
    "k = months.index(month) # Поиск индекса в списке месяцев\n",
    "print ('Результат:')\n",
    "if day >= days[k]: # Условие по дате\n",
    "    print('Ваш знак зодиака:', zodiacs[k])\n",
    "elif k == 0: # Условие по первому индексу\n",
    "    print(zodiacs[11])\n",
    "elif k > 0: # Условие по остальным индексам дат\n",
    "    print(zodiacs[k-1])\n",
    " "
   ]
  },
  {
   "cell_type": "markdown",
   "metadata": {},
   "source": [
    "# Задание 4\n",
    "Вам нужно написать программу для подбора упаковок по размерам товара. Размеры хранятся в переменных (в сантиметрах):"
   ]
  },
  {
   "cell_type": "code",
   "execution_count": null,
   "metadata": {},
   "outputs": [],
   "source": [
    "width = 10\n",
    "length = 205\n",
    "height = 5\n",
    "print ('Результат:')\n",
    "if width < 15 and length < 15 and height < 15:\n",
    "    print ('Коробка № 1')\n",
    "elif 15 < width < 50 or 15 < length < 50 or 15 < height < 50 and length <= 200:\n",
    "    print ('Коробка № 2')\n",
    "elif length > 200:\n",
    "    print ('Упаковка для лыж')\n",
    "else:\n",
    "    print ('Стандартная коробка № 3') \n",
    "    "
   ]
  },
  {
   "cell_type": "markdown",
   "metadata": {},
   "source": [
    "# Задание 5 (необязательное)\n",
    "Дана переменная, в которой хранится шестизначное число (номер проездного билета).\n",
    "Напишите программу, которая будет определять, является ли данный билет “счастливым”.\n",
    "Билет считается счастливым, если сумма первых трех цифр совпадает с суммой последних трех цифр номера."
   ]
  },
  {
   "cell_type": "code",
   "execution_count": null,
   "metadata": {},
   "outputs": [],
   "source": [
    "number = input('Введите 6-ти значный номер проездного билета')\n",
    "spisok = list(map(int, str(number))) # Переводим каждый символ стороки номер билета в число и составляем список\n",
    "sum_1 = spisok[0] + spisok[1] + spisok[2] # Сумма первых 3-х чисел\n",
    "sum_2 = spisok[3] + spisok[4] + spisok[5] # Сумма  3-х чисел с конца номера\n",
    "print ('Результат:')\n",
    "if sum_1 == sum_2:\n",
    "    print ('Счастливый билет')\n",
    "else:\n",
    "    print('Несчастливый билет')"
   ]
  },
  {
   "cell_type": "markdown",
   "metadata": {},
   "source": [
    "# Задание 6 (необязательное)\n",
    "Напишите программу, которая сможет вычислять площади трех фигур (круг, треугольник и прямоугольник).\n",
    "Тип фигуры запрашиваем через пользовательский ввод, после чего делаем запрос характеристик фигуры:"
   ]
  },
  {
   "cell_type": "code",
   "execution_count": null,
   "metadata": {},
   "outputs": [],
   "source": [
    "import math\n",
    "type_figure = str(input('Введите тип фигуры:'))\n",
    "type_figure = type_figure.lower()\n",
    "print ('Результат:')\n",
    "if type_figure == 'круг':\n",
    "    radius = int(input('Введите радиус круга:'))\n",
    "    print('Площадь круга:',  \"{:.2f}\". format(math.pi * (radius ** 2)))\n",
    "elif  type_figure == 'треугольник':\n",
    "    side_a = int(input('Введите длину стороны A:'))\n",
    "    side_b = int(input('Введите длину стороны B:'))\n",
    "    side_c = int(input('Введите длину стороны C:'))\n",
    "    p = (side_a + side_b + side_c)/2\n",
    "    print ('Площадь треугольника:', \"{:.2f}\".format(((p-side_a)*(p-side_b)*(p-side_c)*p)**(0.5)))\n",
    "elif type_figure == 'прямоугольник':\n",
    "    side_a = int(input('Введите длину стороны A:'))\n",
    "    side_b = int(input('Введите длину стороны B:'))\n",
    "    print ('Площадь прямоугольника:', \"{:.2f}\".format(side_a *side_b))"
   ]
  }
 ],
 "metadata": {
  "kernelspec": {
   "display_name": "Python 3",
   "language": "python",
   "name": "python3"
  },
  "language_info": {
   "codemirror_mode": {
    "name": "ipython",
    "version": 3
   },
   "file_extension": ".py",
   "mimetype": "text/x-python",
   "name": "python",
   "nbconvert_exporter": "python",
   "pygments_lexer": "ipython3",
   "version": "3.8.3"
  }
 },
 "nbformat": 4,
 "nbformat_minor": 4
}
